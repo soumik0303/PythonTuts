{
  "nbformat": 4,
  "nbformat_minor": 0,
  "metadata": {
    "colab": {
      "provenance": [],
      "authorship_tag": "ABX9TyNdpKLBNbqeBq0IECdWnOnY",
      "include_colab_link": true
    },
    "kernelspec": {
      "name": "python3",
      "display_name": "Python 3"
    },
    "language_info": {
      "name": "python"
    }
  },
  "cells": [
    {
      "cell_type": "markdown",
      "metadata": {
        "id": "view-in-github",
        "colab_type": "text"
      },
      "source": [
        "<a href=\"https://colab.research.google.com/github/soumik0303/PythonTuts/blob/main/Fitbit_Analysis.ipynb\" target=\"_parent\"><img src=\"https://colab.research.google.com/assets/colab-badge.svg\" alt=\"Open In Colab\"/></a>"
      ]
    },
    {
      "cell_type": "code",
      "execution_count": null,
      "metadata": {
        "id": "bUgbMOdvqtJ0"
      },
      "outputs": [],
      "source": []
    },
    {
      "cell_type": "markdown",
      "source": [
        "**FITBIT ANALYSIS**"
      ],
      "metadata": {
        "id": "a7viTJyTqu6T"
      }
    },
    {
      "cell_type": "code",
      "source": [
        "import numpy as np\n",
        "data=np.loadtxt('fit.txt',dtype='str')"
      ],
      "metadata": {
        "id": "HewcFrkLq2Ou"
      },
      "execution_count": 3,
      "outputs": []
    },
    {
      "cell_type": "code",
      "source": [
        "data.T"
      ],
      "metadata": {
        "colab": {
          "base_uri": "https://localhost:8080/"
        },
        "id": "XQcfr4ZprDft",
        "outputId": "f18c9533-4f55-4b46-a564-ed685a5cc900"
      },
      "execution_count": 4,
      "outputs": [
        {
          "output_type": "execute_result",
          "data": {
            "text/plain": [
              "array([['06-10-2017', '07-10-2017', '08-10-2017', '09-10-2017',\n",
              "        '10-10-2017', '11-10-2017', '12-10-2017', '13-10-2017',\n",
              "        '14-10-2017', '15-10-2017', '16-10-2017', '17-10-2017',\n",
              "        '18-10-2017', '19-10-2017', '20-10-2017', '21-10-2017',\n",
              "        '22-10-2017', '23-10-2017', '24-10-2017', '25-10-2017',\n",
              "        '26-10-2017', '27-10-2017', '28-10-2017', '29-10-2017',\n",
              "        '30-10-2017', '31-10-2017', '01-11-2017', '02-11-2017',\n",
              "        '03-11-2017', '04-11-2017', '05-11-2017', '06-11-2017',\n",
              "        '07-11-2017', '08-11-2017', '09-11-2017', '10-11-2017',\n",
              "        '11-11-2017', '12-11-2017', '13-11-2017', '14-11-2017',\n",
              "        '15-11-2017', '16-11-2017', '17-11-2017', '18-11-2017',\n",
              "        '19-11-2017', '20-11-2017', '21-11-2017', '22-11-2017',\n",
              "        '23-11-2017', '24-11-2017', '25-11-2017', '26-11-2017',\n",
              "        '27-11-2017', '28-11-2017', '29-11-2017', '30-11-2017',\n",
              "        '01-12-2017', '02-12-2017', '03-12-2017', '04-12-2017',\n",
              "        '05-12-2017', '06-12-2017', '07-12-2017', '08-12-2017',\n",
              "        '09-12-2017', '10-12-2017', '11-12-2017', '12-12-2017',\n",
              "        '13-12-2017', '14-12-2017', '15-12-2017', '16-12-2017',\n",
              "        '17-12-2017', '18-12-2017', '19-12-2017', '20-12-2017',\n",
              "        '21-12-2017', '22-12-2017', '23-12-2017', '24-12-2017',\n",
              "        '25-12-2017', '26-12-2017', '27-12-2017', '28-12-2017',\n",
              "        '29-12-2017', '30-12-2017', '31-12-2017', '01-01-2018',\n",
              "        '02-01-2018', '03-01-2018', '04-01-2018', '05-01-2018',\n",
              "        '06-01-2018', '07-01-2018', '08-01-2018', '09-01-2018'],\n",
              "       ['5464', '6041', '25', '5461', '6915', '4545', '4340', '1230',\n",
              "        '61', '1258', '3148', '4687', '4732', '3519', '1580', '2822',\n",
              "        '181', '3158', '4383', '3881', '4037', '202', '292', '330',\n",
              "        '2209', '4550', '4435', '4779', '1831', '2255', '539', '5464',\n",
              "        '6041', '4068', '4683', '4033', '6314', '614', '3149', '4005',\n",
              "        '4880', '4136', '705', '570', '269', '4275', '5999', '4421',\n",
              "        '6930', '5195', '546', '493', '995', '1163', '6676', '3608',\n",
              "        '774', '1421', '4064', '2725', '5934', '1867', '3721', '2374',\n",
              "        '2909', '1648', '799', '7102', '3941', '7422', '437', '1231',\n",
              "        '1696', '4921', '221', '6500', '3575', '4061', '651', '753',\n",
              "        '518', '5537', '4108', '5376', '3066', '177', '36', '299',\n",
              "        '1447', '2599', '702', '133', '153', '500', '2127', '2203'],\n",
              "       ['Neutral', 'Sad', 'Sad', 'Sad', 'Neutral', 'Sad', 'Sad', 'Sad',\n",
              "        'Sad', 'Sad', 'Sad', 'Sad', 'Happy', 'Sad', 'Sad', 'Sad', 'Sad',\n",
              "        'Neutral', 'Neutral', 'Neutral', 'Neutral', 'Neutral', 'Neutral',\n",
              "        'Happy', 'Neutral', 'Happy', 'Happy', 'Happy', 'Happy', 'Happy',\n",
              "        'Happy', 'Happy', 'Neutral', 'Happy', 'Happy', 'Happy', 'Happy',\n",
              "        'Happy', 'Happy', 'Happy', 'Happy', 'Happy', 'Happy', 'Neutral',\n",
              "        'Happy', 'Happy', 'Happy', 'Happy', 'Happy', 'Happy', 'Happy',\n",
              "        'Happy', 'Happy', 'Neutral', 'Sad', 'Happy', 'Happy', 'Happy',\n",
              "        'Happy', 'Happy', 'Happy', 'Happy', 'Sad', 'Neutral', 'Neutral',\n",
              "        'Sad', 'Sad', 'Neutral', 'Neutral', 'Happy', 'Neutral',\n",
              "        'Neutral', 'Sad', 'Neutral', 'Sad', 'Neutral', 'Neutral', 'Sad',\n",
              "        'Sad', 'Sad', 'Sad', 'Happy', 'Neutral', 'Happy', 'Neutral',\n",
              "        'Sad', 'Sad', 'Sad', 'Neutral', 'Neutral', 'Sad', 'Sad', 'Happy',\n",
              "        'Neutral', 'Neutral', 'Happy'],\n",
              "       ['181', '197', '0', '174', '223', '149', '140', '38', '1', '40',\n",
              "        '101', '152', '150', '113', '49', '86', '6', '99', '143', '125',\n",
              "        '129', '6', '9', '10', '72', '150', '141', '156', '57', '72',\n",
              "        '17', '181', '197', '131', '154', '137', '193', '19', '101',\n",
              "        '139', '164', '137', '22', '17', '9', '145', '192', '146', '234',\n",
              "        '167', '16', '17', '32', '35', '220', '116', '23', '44', '131',\n",
              "        '86', '194', '60', '121', '76', '93', '53', '25', '227', '125',\n",
              "        '243', '14', '39', '55', '158', '7', '213', '116', '129', '21',\n",
              "        '28', '16', '180', '138', '176', '99', '5', '1', '10', '47',\n",
              "        '84', '23', '4', '0', '0', '0', '0'],\n",
              "       ['5', '8', '5', '4', '5', '6', '6', '7', '5', '6', '8', '5', '6',\n",
              "        '7', '5', '6', '8', '5', '4', '5', '6', '8', '5', '6', '5', '8',\n",
              "        '5', '4', '5', '4', '5', '4', '3', '2', '9', '5', '6', '4', '5',\n",
              "        '8', '4', '5', '6', '5', '6', '5', '6', '5', '6', '5', '6', '7',\n",
              "        '6', '7', '6', '5', '6', '7', '8', '8', '7', '8', '5', '4', '3',\n",
              "        '3', '4', '5', '5', '5', '3', '4', '4', '5', '5', '5', '5', '5',\n",
              "        '5', '4', '3', '4', '5', '5', '4', '5', '3', '3', '3', '2', '3',\n",
              "        '2', '8', '5', '5', '5'],\n",
              "       ['Inactive', 'Inactive', 'Inactive', 'Inactive', 'Active',\n",
              "        'Inactive', 'Inactive', 'Inactive', 'Inactive', 'Inactive',\n",
              "        'Inactive', 'Inactive', 'Active', 'Inactive', 'Inactive',\n",
              "        'Inactive', 'Inactive', 'Inactive', 'Inactive', 'Inactive',\n",
              "        'Inactive', 'Inactive', 'Inactive', 'Inactive', 'Inactive',\n",
              "        'Active', 'Inactive', 'Inactive', 'Inactive', 'Inactive',\n",
              "        'Active', 'Inactive', 'Inactive', 'Inactive', 'Inactive',\n",
              "        'Inactive', 'Active', 'Active', 'Active', 'Active', 'Active',\n",
              "        'Active', 'Active', 'Active', 'Active', 'Inactive', 'Inactive',\n",
              "        'Inactive', 'Inactive', 'Inactive', 'Inactive', 'Active',\n",
              "        'Active', 'Active', 'Active', 'Active', 'Active', 'Active',\n",
              "        'Active', 'Active', 'Active', 'Active', 'Active', 'Inactive',\n",
              "        'Active', 'Active', 'Inactive', 'Active', 'Active', 'Active',\n",
              "        'Active', 'Active', 'Inactive', 'Active', 'Active', 'Active',\n",
              "        'Active', 'Inactive', 'Inactive', 'Inactive', 'Inactive',\n",
              "        'Active', 'Active', 'Active', 'Active', 'Inactive', 'Inactive',\n",
              "        'Inactive', 'Inactive', 'Inactive', 'Inactive', 'Inactive',\n",
              "        'Inactive', 'Active', 'Inactive', 'Active']], dtype='<U10')"
            ]
          },
          "metadata": {},
          "execution_count": 4
        }
      ]
    },
    {
      "cell_type": "code",
      "source": [
        "date,step_count,mood,calorie_burned,hours_of_sleep,activity_status=data.T"
      ],
      "metadata": {
        "id": "shNtxci5romQ"
      },
      "execution_count": 5,
      "outputs": []
    },
    {
      "cell_type": "code",
      "source": [
        "step_count=np.array(step_count,dtype='int')\n",
        "calorie_burned=np.array(calorie_burned,dtype='int')\n",
        "hours_of_sleep=np.array(hours_of_sleep,dtype='int')"
      ],
      "metadata": {
        "id": "XYTY-bqgr_li"
      },
      "execution_count": 6,
      "outputs": []
    },
    {
      "cell_type": "code",
      "source": [
        "np.unique(mood)"
      ],
      "metadata": {
        "colab": {
          "base_uri": "https://localhost:8080/"
        },
        "id": "I2beiy9XsiAL",
        "outputId": "03af8e00-f67d-42d9-c355-0436f2f7c15a"
      },
      "execution_count": 7,
      "outputs": [
        {
          "output_type": "execute_result",
          "data": {
            "text/plain": [
              "array(['Happy', 'Neutral', 'Sad'], dtype='<U10')"
            ]
          },
          "metadata": {},
          "execution_count": 7
        }
      ]
    },
    {
      "cell_type": "code",
      "source": [
        "step_count_happy=step_count[mood=='Happy']\n",
        "step_count_sad=step_count[mood=='Sad']\n",
        "step_count_neutral=step_count[mood=='Neutral']"
      ],
      "metadata": {
        "id": "boxomYRrsnxO"
      },
      "execution_count": 8,
      "outputs": []
    },
    {
      "cell_type": "code",
      "source": [
        "np.mean(step_count_happy)"
      ],
      "metadata": {
        "colab": {
          "base_uri": "https://localhost:8080/"
        },
        "id": "wNIwbwAXtGgj",
        "outputId": "51d4f7d9-0a21-44d2-abe6-f668d9e54a60"
      },
      "execution_count": 9,
      "outputs": [
        {
          "output_type": "execute_result",
          "data": {
            "text/plain": [
              "3392.725"
            ]
          },
          "metadata": {},
          "execution_count": 9
        }
      ]
    },
    {
      "cell_type": "code",
      "source": [
        "np.mean(step_count_sad)"
      ],
      "metadata": {
        "colab": {
          "base_uri": "https://localhost:8080/"
        },
        "id": "57uPy4zltMEp",
        "outputId": "18811440-8e47-45d3-a822-b0bf01d5d0f9"
      },
      "execution_count": 10,
      "outputs": [
        {
          "output_type": "execute_result",
          "data": {
            "text/plain": [
              "2103.0689655172414"
            ]
          },
          "metadata": {},
          "execution_count": 10
        }
      ]
    },
    {
      "cell_type": "code",
      "source": [
        "np.mean(step_count_neutral)"
      ],
      "metadata": {
        "colab": {
          "base_uri": "https://localhost:8080/"
        },
        "id": "op1nRTAttSDO",
        "outputId": "a8a702ef-e478-4d23-b1ef-318b0aea4369"
      },
      "execution_count": 11,
      "outputs": [
        {
          "output_type": "execute_result",
          "data": {
            "text/plain": [
              "3153.777777777778"
            ]
          },
          "metadata": {},
          "execution_count": 11
        }
      ]
    },
    {
      "cell_type": "markdown",
      "source": [
        "**Step count is maximum when the mood is'Happy' and step count is minimum when the mood is 'Sad'**"
      ],
      "metadata": {
        "id": "AsslQb-utbIn"
      }
    },
    {
      "cell_type": "code",
      "source": [],
      "metadata": {
        "id": "pURqC4jwtpwW"
      },
      "execution_count": null,
      "outputs": []
    }
  ]
}