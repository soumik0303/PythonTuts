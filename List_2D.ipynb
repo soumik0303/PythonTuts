{
  "nbformat": 4,
  "nbformat_minor": 0,
  "metadata": {
    "colab": {
      "provenance": [],
      "authorship_tag": "ABX9TyO9FxsFohF4CmRV58552lna",
      "include_colab_link": true
    },
    "kernelspec": {
      "name": "python3",
      "display_name": "Python 3"
    },
    "language_info": {
      "name": "python"
    }
  },
  "cells": [
    {
      "cell_type": "markdown",
      "metadata": {
        "id": "view-in-github",
        "colab_type": "text"
      },
      "source": [
        "<a href=\"https://colab.research.google.com/github/soumik0303/PythonTuts/blob/main/List_2D.ipynb\" target=\"_parent\"><img src=\"https://colab.research.google.com/assets/colab-badge.svg\" alt=\"Open In Colab\"/></a>"
      ]
    },
    {
      "cell_type": "code",
      "execution_count": null,
      "metadata": {
        "id": "c5SwZ-G9hDjW"
      },
      "outputs": [],
      "source": []
    },
    {
      "cell_type": "markdown",
      "source": [
        "2D List problems and solution"
      ],
      "metadata": {
        "id": "x4etqZ7KhEYZ"
      }
    },
    {
      "cell_type": "code",
      "source": [
        "A=[[1,2,3],[4,5,6],[7,8,9]]"
      ],
      "metadata": {
        "id": "XeYhoNNUhKAg"
      },
      "execution_count": 1,
      "outputs": []
    },
    {
      "cell_type": "code",
      "source": [
        "A"
      ],
      "metadata": {
        "colab": {
          "base_uri": "https://localhost:8080/"
        },
        "id": "sIgEU0hbhaz4",
        "outputId": "5a399847-4170-46fd-c412-a7678a886f86"
      },
      "execution_count": 2,
      "outputs": [
        {
          "output_type": "execute_result",
          "data": {
            "text/plain": [
              "[[1, 2, 3], [4, 5, 6], [7, 8, 9]]"
            ]
          },
          "metadata": {},
          "execution_count": 2
        }
      ]
    },
    {
      "cell_type": "code",
      "source": [
        "#Find the sum of the elements of the row\n",
        "ans=[]\n",
        "for i in range(len(A)):\n",
        "  sum=0\n",
        "  for j in range(len(A[0])):\n",
        "    sum=sum+A[i][j]\n",
        "  ans.append(sum)\n",
        "print(ans)"
      ],
      "metadata": {
        "colab": {
          "base_uri": "https://localhost:8080/"
        },
        "id": "wa88bwIChdH9",
        "outputId": "20d04a9b-09bb-49e5-974b-a4c08a9b69ed"
      },
      "execution_count": 3,
      "outputs": [
        {
          "output_type": "stream",
          "name": "stdout",
          "text": [
            "[6, 15, 24]\n"
          ]
        }
      ]
    },
    {
      "cell_type": "code",
      "source": [
        "#find the sum of the elements of columns\n",
        "ans=[]\n",
        "for i in range(len(A[0])):\n",
        "  sum=0\n",
        "  for j in range(len(A)):\n",
        "    sum=sum+A[j][i]\n",
        "  ans.append(sum)\n",
        "print(ans)\n"
      ],
      "metadata": {
        "colab": {
          "base_uri": "https://localhost:8080/"
        },
        "id": "4TDxPHxwiH2I",
        "outputId": "8aa04d0d-ee9b-4960-9509-c1e96564f1cb"
      },
      "execution_count": 4,
      "outputs": [
        {
          "output_type": "stream",
          "name": "stdout",
          "text": [
            "[12, 15, 18]\n"
          ]
        }
      ]
    },
    {
      "cell_type": "code",
      "source": [
        "#sum of diagonal elements\n",
        "sum=0\n",
        "for i in range(len(A)):\n",
        "  sum=sum+A[i][i]\n",
        "print(sum)"
      ],
      "metadata": {
        "colab": {
          "base_uri": "https://localhost:8080/"
        },
        "id": "JV9XQvBzi23h",
        "outputId": "af2985df-7f8e-448a-ee80-f38e020a3d58"
      },
      "execution_count": 5,
      "outputs": [
        {
          "output_type": "stream",
          "name": "stdout",
          "text": [
            "15\n"
          ]
        }
      ]
    },
    {
      "cell_type": "code",
      "source": [
        "#find the value of largest element in each row\n",
        "ans=[0]*len(A)\n",
        "for i in range(len(A)):\n",
        "  for j in range(len(A[0])):\n",
        "    ans[i]=max(ans[i],A[i][j])\n",
        "print(ans)"
      ],
      "metadata": {
        "colab": {
          "base_uri": "https://localhost:8080/"
        },
        "id": "8O9O1-kyjZEI",
        "outputId": "f17714c9-3aa1-4f27-f401-f825e899c972"
      },
      "execution_count": 6,
      "outputs": [
        {
          "output_type": "stream",
          "name": "stdout",
          "text": [
            "[3, 6, 9]\n"
          ]
        }
      ]
    }
  ]
}