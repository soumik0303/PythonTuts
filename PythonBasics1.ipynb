{
  "nbformat": 4,
  "nbformat_minor": 0,
  "metadata": {
    "colab": {
      "provenance": [],
      "authorship_tag": "ABX9TyOn2ltSVEb4V+rvippJf13r",
      "include_colab_link": true
    },
    "kernelspec": {
      "name": "python3",
      "display_name": "Python 3"
    },
    "language_info": {
      "name": "python"
    }
  },
  "cells": [
    {
      "cell_type": "markdown",
      "metadata": {
        "id": "view-in-github",
        "colab_type": "text"
      },
      "source": [
        "<a href=\"https://colab.research.google.com/github/soumik0303/PythonTuts/blob/main/PythonBasics1.ipynb\" target=\"_parent\"><img src=\"https://colab.research.google.com/assets/colab-badge.svg\" alt=\"Open In Colab\"/></a>"
      ]
    },
    {
      "cell_type": "code",
      "execution_count": null,
      "metadata": {
        "id": "oa1xK2YoLI9A"
      },
      "outputs": [],
      "source": []
    },
    {
      "cell_type": "markdown",
      "source": [
        "*Prime Number checker*"
      ],
      "metadata": {
        "id": "1VPlvEXlLNbT"
      }
    },
    {
      "cell_type": "code",
      "source": [
        "n=int(input())\n",
        "flag=True\n",
        "if n==1:\n",
        "  print(\"neither a prime nor a composite number\")\n",
        "else:\n",
        "  for i in range(2,n):\n",
        "    if n%i==0:\n",
        "      flag=False\n",
        "      break\n",
        "  if flag==True:\n",
        "    print(\"Prime Number\")\n",
        "  else:\n",
        "    print(\"Not a prime number\")"
      ],
      "metadata": {
        "colab": {
          "base_uri": "https://localhost:8080/"
        },
        "id": "F3xOqZOaLeT-",
        "outputId": "11581e6b-ad33-4bfa-be1f-aaa2e3df51fc"
      },
      "execution_count": null,
      "outputs": [
        {
          "output_type": "stream",
          "name": "stdout",
          "text": [
            "1\n",
            "neither a prime nor a composite number\n"
          ]
        }
      ]
    },
    {
      "cell_type": "markdown",
      "source": [
        "*Fibonacci Series*"
      ],
      "metadata": {
        "id": "_wUX7rQZN9Lf"
      }
    },
    {
      "cell_type": "code",
      "source": [
        "n=int(input())\n",
        "a=0\n",
        "b=1\n",
        "c=a+b\n",
        "while c<=n:\n",
        "  print(c,end=\" \")\n",
        "  a=b\n",
        "  b=c\n",
        "  c=a+b"
      ],
      "metadata": {
        "colab": {
          "base_uri": "https://localhost:8080/"
        },
        "id": "9tBhPgH8OEpF",
        "outputId": "719cdf56-b628-4646-cdbe-15870f7c6ad9"
      },
      "execution_count": null,
      "outputs": [
        {
          "output_type": "stream",
          "name": "stdout",
          "text": [
            "21\n",
            "1 2 3 5 8 13 21 "
          ]
        }
      ]
    },
    {
      "cell_type": "markdown",
      "source": [
        "*Pattern printing Problem statement*"
      ],
      "metadata": {
        "id": "V9XS9tVTP4IN"
      }
    },
    {
      "cell_type": "code",
      "source": [
        "n=5\n",
        "for i in range(n):\n",
        "  for j in range(i+1):\n",
        "    print(i+1,end=\" \")\n",
        "  print()"
      ],
      "metadata": {
        "colab": {
          "base_uri": "https://localhost:8080/"
        },
        "id": "ity8rQ-YQRTS",
        "outputId": "d1ee5f82-b895-488a-9e17-d146dc00d981"
      },
      "execution_count": null,
      "outputs": [
        {
          "output_type": "stream",
          "name": "stdout",
          "text": [
            "1 \n",
            "2 2 \n",
            "3 3 3 \n",
            "4 4 4 4 \n",
            "5 5 5 5 5 \n"
          ]
        }
      ]
    },
    {
      "cell_type": "markdown",
      "source": [
        "Write a programme that prints all the even numbers by using Continue statement"
      ],
      "metadata": {
        "id": "TL03Lo60SE8x"
      }
    },
    {
      "cell_type": "code",
      "source": [
        "for i in range(2,21):\n",
        "  if i%2!=0:\n",
        "    continue\n",
        "  else:\n",
        "    print(i,end=\" \")\n"
      ],
      "metadata": {
        "colab": {
          "base_uri": "https://localhost:8080/"
        },
        "id": "8uQrUHrzSi0l",
        "outputId": "4941f8d9-4155-4522-bb60-3cdff8f7a0d5"
      },
      "execution_count": null,
      "outputs": [
        {
          "output_type": "stream",
          "name": "stdout",
          "text": [
            "2 4 6 8 10 12 14 16 18 20 "
          ]
        }
      ]
    },
    {
      "cell_type": "markdown",
      "source": [
        "*Perfect Number*"
      ],
      "metadata": {
        "id": "FuBDQcqGTEI9"
      }
    },
    {
      "cell_type": "code",
      "source": [
        "n=int(input(\"Enter any number : \"))\n",
        "sum=0\n",
        "for i in range(1,n):\n",
        "  if n%i==0:\n",
        "    sum=sum+i\n",
        "if sum==n:\n",
        "  print(\"perfect number\")\n",
        "else:\n",
        "  print(\"not a perfect number\")"
      ],
      "metadata": {
        "colab": {
          "base_uri": "https://localhost:8080/"
        },
        "id": "HLo6m4Y-Uf61",
        "outputId": "f7c66c2e-a75f-4ddc-bb76-a7fae82593c7"
      },
      "execution_count": null,
      "outputs": [
        {
          "output_type": "stream",
          "name": "stdout",
          "text": [
            "Enter any number : 72\n",
            "not a perfect number\n"
          ]
        }
      ]
    },
    {
      "cell_type": "markdown",
      "source": [
        "*collaz conjecture algorithm*"
      ],
      "metadata": {
        "id": "AfdVo4UaXZG8"
      }
    },
    {
      "cell_type": "code",
      "source": [
        "n=int(input())\n",
        "while n>1:\n",
        "  if n%2!=0:\n",
        "    n=n*3+1\n",
        "  else:\n",
        "    n=n//2\n",
        "\n",
        "  print(n,end=\" \")\n"
      ],
      "metadata": {
        "colab": {
          "base_uri": "https://localhost:8080/"
        },
        "id": "iRfc-sYWXmqq",
        "outputId": "4114a259-6854-48be-ba0e-ff83bcbaaaf3"
      },
      "execution_count": null,
      "outputs": [
        {
          "output_type": "stream",
          "name": "stdout",
          "text": [
            "11\n",
            "34 17 52 26 13 40 20 10 5 16 8 4 2 1 "
          ]
        }
      ]
    },
    {
      "cell_type": "markdown",
      "source": [
        "*Reverse Integer"
      ],
      "metadata": {
        "id": "8L3hPSgYbyDK"
      }
    },
    {
      "cell_type": "code",
      "source": [
        "n=int(input())\n",
        "reverse=0\n",
        "while n>0:\n",
        "  remainder=n%10\n",
        "  reverse=(reverse*10)+remainder\n",
        "  n=n//10\n",
        "print(reverse)"
      ],
      "metadata": {
        "colab": {
          "base_uri": "https://localhost:8080/"
        },
        "id": "Kh2EPWAfb1zM",
        "outputId": "79a5e9a8-d271-4d0f-c0ab-60c42b498042"
      },
      "execution_count": null,
      "outputs": [
        {
          "output_type": "stream",
          "name": "stdout",
          "text": [
            "17\n",
            "71\n"
          ]
        }
      ]
    },
    {
      "cell_type": "markdown",
      "source": [
        "*Armstorg number*"
      ],
      "metadata": {
        "id": "hwdlNYuMeNTG"
      }
    },
    {
      "cell_type": "code",
      "source": [
        "n=int(input(\"enter the digit :- \"))\n",
        "sum=0\n",
        "temp=n\n",
        "while temp>0:\n",
        "  digit=temp%10\n",
        "  sum=sum+(digit**3)\n",
        "  temp=temp//10\n",
        "if n==sum:\n",
        "  print(\"Armstorg number\")\n",
        "else:\n",
        "  print(\"Not an armstorg number\")"
      ],
      "metadata": {
        "colab": {
          "base_uri": "https://localhost:8080/"
        },
        "id": "Ff-55WSfeS7K",
        "outputId": "bada4c22-b77e-4f4d-c2d1-0d5aaaaf88b1"
      },
      "execution_count": null,
      "outputs": [
        {
          "output_type": "stream",
          "name": "stdout",
          "text": [
            "enter the digit :- 153\n",
            "Armstorg number\n"
          ]
        }
      ]
    },
    {
      "cell_type": "markdown",
      "source": [
        "first 50 unit: 0.10 rs per unit,next 100 unit: 0.15"
      ],
      "metadata": {
        "id": "auI5ZhgshGg0"
      }
    },
    {
      "cell_type": "code",
      "source": [
        "n=int(input())\n",
        "if n<=50:\n",
        "  rate=n*0.10\n",
        "elif n<=150:\n",
        "  rate=50*0.10+(100-n)*0.15\n",
        "else:\n",
        "  rate=50*0.10+100*0.15+(n-150)*0.20\n",
        "print(rate)"
      ],
      "metadata": {
        "colab": {
          "base_uri": "https://localhost:8080/"
        },
        "id": "oZUJGe3er2dQ",
        "outputId": "51ca93a5-af04-4557-afdd-08ab4a6eb6cb"
      },
      "execution_count": null,
      "outputs": [
        {
          "output_type": "stream",
          "name": "stdout",
          "text": [
            "320\n",
            "54.0\n"
          ]
        }
      ]
    }
  ]
}